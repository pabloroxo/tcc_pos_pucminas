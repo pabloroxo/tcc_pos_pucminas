{
 "cells": [
  {
   "cell_type": "markdown",
   "metadata": {},
   "source": [
    "# Código 1"
   ]
  },
  {
   "cell_type": "code",
   "execution_count": null,
   "metadata": {},
   "outputs": [],
   "source": [
    "# Importação da biblioteca Pandas\n",
    "import pandas as pd"
   ]
  },
  {
   "cell_type": "code",
   "execution_count": null,
   "metadata": {},
   "outputs": [],
   "source": [
    "# Carregamento da base de dados de clientes\n",
    "cust_df = pd.read_csv('customer_data.csv')"
   ]
  },
  {
   "cell_type": "code",
   "execution_count": null,
   "metadata": {},
   "outputs": [],
   "source": [
    "# Carregamento da base de dados das transações dos clientes\n",
    "cust_pymt_df= pd.read_csv('payment_data.csv')"
   ]
  },
  {
   "cell_type": "code",
   "execution_count": null,
   "metadata": {},
   "outputs": [],
   "source": [
    "# Detalhando os tipos de dados da base de clientes\n",
    "cust_df.info()"
   ]
  },
  {
   "cell_type": "code",
   "execution_count": null,
   "metadata": {},
   "outputs": [],
   "source": [
    "# Detalhando os tipos de dados da base de transações\n",
    "cust_pymt_df.info()"
   ]
  },
  {
   "cell_type": "markdown",
   "metadata": {},
   "source": [
    "# Código 2"
   ]
  },
  {
   "cell_type": "code",
   "execution_count": null,
   "metadata": {},
   "outputs": [],
   "source": [
    "# Removendo colunas que não serão utilizadas\n",
    "cust_pymt_df.drop(columns=['prod_limit', 'update_date', 'report_date'], inplace=True)"
   ]
  },
  {
   "cell_type": "markdown",
   "metadata": {},
   "source": [
    "# Código 3"
   ]
  },
  {
   "cell_type": "code",
   "execution_count": null,
   "metadata": {},
   "outputs": [],
   "source": [
    "# Verificando quantos valores vazios cada campo possui na base de clientes\n",
    "cust_df.isnull().sum()"
   ]
  },
  {
   "cell_type": "code",
   "execution_count": null,
   "metadata": {},
   "outputs": [],
   "source": [
    "# Verificando quantos valores vazios cada campo possui na base de transações\n",
    "cust_pymt_df.isnull().sum()"
   ]
  },
  {
   "cell_type": "markdown",
   "metadata": {},
   "source": [
    "# Código 4"
   ]
  },
  {
   "cell_type": "code",
   "execution_count": null,
   "metadata": {},
   "outputs": [],
   "source": [
    "# Apresentando a quantidade, média, desvio padrão, mínimo, quartis e máximo dos campos na base de clientes\n",
    "cust_df.describe()"
   ]
  },
  {
   "cell_type": "code",
   "execution_count": null,
   "metadata": {},
   "outputs": [],
   "source": [
    "# Apresentando a quantidade, média, desvio padrão, mínimo, quartis e máximo dos campos na base de transações\n",
    "cust_pymt_df.describe()"
   ]
  },
  {
   "cell_type": "markdown",
   "metadata": {},
   "source": [
    "# Código 5"
   ]
  },
  {
   "cell_type": "code",
   "execution_count": null,
   "metadata": {},
   "outputs": [],
   "source": [
    "# Preenchendo com a média dos valores de fea_2 os registros em que este campo está vazio\n",
    "cust_df['fea_2'].fillna(cust_df['fea_2'].mean(), inplace=True)"
   ]
  },
  {
   "cell_type": "markdown",
   "metadata": {},
   "source": [
    "# Código 6"
   ]
  },
  {
   "cell_type": "code",
   "execution_count": null,
   "metadata": {},
   "outputs": [],
   "source": [
    "# Removendo os registros em que há valores ausentes no campo highest_balance\n",
    "cust_pymt_df.dropna(subset=['highest_balance'], inplace=True)"
   ]
  },
  {
   "cell_type": "code",
   "execution_count": null,
   "metadata": {},
   "outputs": [],
   "source": [
    "# Resetando os índices do vetor para a que fique de 0 a N-1\n",
    "cust_pymt_df.reset_index(drop=True, inplace=True)"
   ]
  },
  {
   "cell_type": "markdown",
   "metadata": {},
   "source": [
    "# Código 7"
   ]
  },
  {
   "cell_type": "code",
   "execution_count": null,
   "metadata": {},
   "outputs": [],
   "source": [
    "# Checando de há valores duplicados no campo id\n",
    "cust_df['id'].duplicated().any()"
   ]
  },
  {
   "cell_type": "markdown",
   "metadata": {},
   "source": [
    "# Código 8"
   ]
  },
  {
   "cell_type": "code",
   "execution_count": null,
   "metadata": {},
   "outputs": [],
   "source": [
    "# Escolhendo os campos da base de clientes\n",
    "cust_columns = ['fea_2', 'fea_4', 'fea_10', 'fea_11']"
   ]
  },
  {
   "cell_type": "code",
   "execution_count": null,
   "metadata": {},
   "outputs": [],
   "source": [
    "# Listando os valores dos campos escolhidos na base de clientes em busca de outliers\n",
    "for a in cust_columns:\n",
    "    print(a, *cust_df[a].sort_values(ascending=True).tolist(), sep='\\n')"
   ]
  },
  {
   "cell_type": "code",
   "execution_count": null,
   "metadata": {},
   "outputs": [],
   "source": [
    "# Escolhendo os campos da base de transações\n",
    "cust_pymt_columns = ['OVD_t1', 'OVD_t2', 'OVD_t3', 'OVD_sum', 'pay_normal', 'new_balance', 'highest_balance']"
   ]
  },
  {
   "cell_type": "code",
   "execution_count": null,
   "metadata": {},
   "outputs": [],
   "source": [
    "# Listando os valores dos campos escolhidos na base de transações em busca de outliers\n",
    "for a in cust_pymt_columns:\n",
    "    print(a, *cust_pymt_df[a].sort_values(ascending=True).tolist(), sep='\\n')"
   ]
  },
  {
   "cell_type": "markdown",
   "metadata": {},
   "source": [
    "# Código 9"
   ]
  },
  {
   "cell_type": "code",
   "execution_count": null,
   "metadata": {},
   "outputs": [],
   "source": [
    "# Mesclando as duas bases de dados utilizando a coluna \"id\" como chave em ambas\n",
    "cust_df_mrg = pd.merge(cust_df, cust_pymt_df, left_on=['id'], right_on=['id'], how='inner')\n",
    "\n",
    "# Removendo o campo \"id\" pois ele não será mais necessário\n",
    "cust_df_mrg.drop(columns=['id'], inplace=True)"
   ]
  },
  {
   "cell_type": "markdown",
   "metadata": {},
   "source": [
    "# Código 10"
   ]
  },
  {
   "cell_type": "code",
   "execution_count": null,
   "metadata": {},
   "outputs": [],
   "source": [
    "# Importação da biblioteca de plotagem Seaborn\n",
    "import seaborn as sns"
   ]
  },
  {
   "cell_type": "code",
   "execution_count": null,
   "metadata": {},
   "outputs": [],
   "source": [
    "# Obtendo a quantidade total de itens 0 e 1 do campo \"label\"\n",
    "items = cust_df_mrg['label'].value_counts()"
   ]
  },
  {
   "cell_type": "code",
   "execution_count": null,
   "metadata": {},
   "outputs": [],
   "source": [
    "# Plotando o gráfico com a quantidade de cada uma das classificações\n",
    "sns.barplot(x='Classificação', y='Quantidade', data=pd.DataFrame({'Classificação': items.index, 'Quantidade': items.values}))"
   ]
  },
  {
   "cell_type": "markdown",
   "metadata": {},
   "source": [
    "# Código 11"
   ]
  },
  {
   "cell_type": "code",
   "execution_count": null,
   "metadata": {},
   "outputs": [],
   "source": [
    "# Importação da biblioteca de plotagem Matplotlib\n",
    "import matplotlib.pyplot as plt"
   ]
  },
  {
   "cell_type": "code",
   "execution_count": null,
   "metadata": {},
   "outputs": [],
   "source": [
    "# Definindo as variáveis categóricas\n",
    "cat_features = ['fea_1', 'fea_3', 'fea_5', 'fea_6', 'fea_7', 'fea_9', 'prod_code']"
   ]
  },
  {
   "cell_type": "code",
   "execution_count": null,
   "metadata": {},
   "outputs": [],
   "source": [
    "# Obtendo as correlações entre campos\n",
    "correlations = cust_df_mrg.drop(columns=cat_features).corr()"
   ]
  },
  {
   "cell_type": "code",
   "execution_count": null,
   "metadata": {},
   "outputs": [],
   "source": [
    "# Definindo as dimensões do mapa de calor\n",
    "plt.figure(figsize=(14, 11))\n",
    "\n",
    "# Plotando o mapa de calor\n",
    "sns.heatmap(correlations, cmap=plt.cm.RdYlBu_r, annot=True, vmin=-1, vmax=1)"
   ]
  },
  {
   "cell_type": "markdown",
   "metadata": {},
   "source": [
    "# Código 12"
   ]
  },
  {
   "cell_type": "code",
   "execution_count": null,
   "metadata": {},
   "outputs": [],
   "source": [
    "# Importação do divisor de amostras para treino e teste\n",
    "from sklearn.model_selection import train_test_split\n",
    "\n",
    "# Extraindo os campos de features para o treinamento\n",
    "x = cust_df_mrg.drop('label', axis=1)\n",
    "\n",
    "# Extraindo a coluna com a classificação\n",
    "y = cust_df_mrg['label']\n",
    "\n",
    "# Separando as amostras para treinamento e teste, numa proportção de 80%/20% respectivamente\n",
    "x_train, x_test, y_train, y_test = train_test_split(x, y, test_size=0.2, random_state=42)"
   ]
  },
  {
   "cell_type": "markdown",
   "metadata": {},
   "source": [
    "# Código 13"
   ]
  },
  {
   "cell_type": "code",
   "execution_count": null,
   "metadata": {},
   "outputs": [],
   "source": [
    "# Importação do classificador de árvore de decisão\n",
    "from sklearn.tree import DecisionTreeClassifier\n",
    "\n",
    "# Instanciando o classificador\n",
    "tree = DecisionTreeClassifier()\n",
    "\n",
    "# Treinando o classificador\n",
    "tree = tree.fit(x_train, y_train)"
   ]
  },
  {
   "cell_type": "markdown",
   "metadata": {},
   "source": [
    "# Código 14"
   ]
  },
  {
   "cell_type": "code",
   "execution_count": null,
   "metadata": {},
   "outputs": [],
   "source": [
    "# Exibindo os campos e seus graus de importância para o treinamento\n",
    "pd.Series(tree.feature_importances_, index=x_train.columns).sort_values(ascending=True).plot(kind='barh', figsize=(15, 6))"
   ]
  },
  {
   "cell_type": "markdown",
   "metadata": {},
   "source": [
    "# Código 15"
   ]
  },
  {
   "cell_type": "code",
   "execution_count": null,
   "metadata": {},
   "outputs": [],
   "source": [
    "# Executando o teste de previsão com as amostras de teste\n",
    "tree_result = tree.predict(x_test)\n",
    "\n",
    "# Importação da matriz de confusão\n",
    "from sklearn.metrics import confusion_matrix\n",
    "\n",
    "# Exibição da matriz de confusão\n",
    "print(confusion_matrix(y_test, tree_result))"
   ]
  },
  {
   "cell_type": "markdown",
   "metadata": {},
   "source": [
    "# Código 16"
   ]
  },
  {
   "cell_type": "code",
   "execution_count": null,
   "metadata": {},
   "outputs": [],
   "source": [
    "# Importação do cálculo de métricas\n",
    "from sklearn.metrics import classification_report\n",
    "\n",
    "# Exibindo as métricas\n",
    "print(classification_report(y_test, tree_result, digits=4))"
   ]
  },
  {
   "cell_type": "markdown",
   "metadata": {},
   "source": [
    "# Código 17"
   ]
  },
  {
   "cell_type": "code",
   "execution_count": null,
   "metadata": {},
   "outputs": [],
   "source": [
    "# Importação do classificador de Naïve Bayes\n",
    "from sklearn.naive_bayes import GaussianNB\n",
    "\n",
    "# Instanciando o classificador\n",
    "naive_bayes = GaussianNB()\n",
    "\n",
    "# Treinando o classificador\n",
    "naive_bayes = naive_bayes.fit(x_train, y_train)"
   ]
  },
  {
   "cell_type": "markdown",
   "metadata": {},
   "source": [
    "# Código 18"
   ]
  },
  {
   "cell_type": "code",
   "execution_count": null,
   "metadata": {},
   "outputs": [],
   "source": [
    "# Executando o teste de previsão com as amostras de teste\n",
    "naive_bayes_result = naive_bayes.predict(x_test)\n",
    "\n",
    "# Exibição da matriz de confusão\n",
    "print(confusion_matrix(y_test, naive_bayes_result))"
   ]
  },
  {
   "cell_type": "markdown",
   "metadata": {},
   "source": [
    "# Código 19"
   ]
  },
  {
   "cell_type": "code",
   "execution_count": null,
   "metadata": {},
   "outputs": [],
   "source": [
    "# Exibindo as métricas\n",
    "print(classification_report(y_test, naive_bayes_result, digits=4))"
   ]
  },
  {
   "cell_type": "markdown",
   "metadata": {},
   "source": [
    "# Código 20"
   ]
  },
  {
   "cell_type": "code",
   "execution_count": null,
   "metadata": {},
   "outputs": [],
   "source": [
    "# Importação do classificador de regressão logística\n",
    "from sklearn.linear_model import LogisticRegression\n",
    "\n",
    "# Instanciando o classificador\n",
    "logistic = LogisticRegression()\n",
    "\n",
    "# Treinando o classificador\n",
    "logistic = logistic.fit(x_train, y_train)"
   ]
  },
  {
   "cell_type": "markdown",
   "metadata": {},
   "source": [
    "# Código 21"
   ]
  },
  {
   "cell_type": "code",
   "execution_count": null,
   "metadata": {},
   "outputs": [],
   "source": [
    "# Executando o teste de previsão com as amostras de teste\n",
    "logistic_result = logistic.predict(x_test)\n",
    "\n",
    "# Exibição da matriz de confusão\n",
    "print(confusion_matrix(y_test, logistic_result))"
   ]
  },
  {
   "cell_type": "markdown",
   "metadata": {},
   "source": [
    "# Código 22"
   ]
  },
  {
   "cell_type": "code",
   "execution_count": null,
   "metadata": {},
   "outputs": [],
   "source": [
    "# Exibindo as métricas\n",
    "print(classification_report(y_test, logistic_result, digits=4))"
   ]
  },
  {
   "cell_type": "markdown",
   "metadata": {},
   "source": [
    "# Código 23"
   ]
  },
  {
   "cell_type": "code",
   "execution_count": null,
   "metadata": {},
   "outputs": [],
   "source": [
    "# Importação do classificador de SVM\n",
    "from sklearn import svm\n",
    "\n",
    "# Instanciando o classificador\n",
    "svm = svm.SVC()\n",
    "\n",
    "# Treinando o classificador\n",
    "svm = svm.fit(x_train, y_train)"
   ]
  },
  {
   "cell_type": "markdown",
   "metadata": {},
   "source": [
    "# Código 24"
   ]
  },
  {
   "cell_type": "code",
   "execution_count": null,
   "metadata": {},
   "outputs": [],
   "source": [
    "# Executando o teste de previsão com as amostras de teste\n",
    "svm_result = svm.predict(x_test)\n",
    "\n",
    "# Exibição da matriz de confusão\n",
    "print(confusion_matrix(y_test, svm_result))"
   ]
  },
  {
   "cell_type": "markdown",
   "metadata": {},
   "source": [
    "# Código 25"
   ]
  },
  {
   "cell_type": "code",
   "execution_count": null,
   "metadata": {},
   "outputs": [],
   "source": [
    "# Exibindo as métricas\n",
    "print(classification_report(y_test, svm_result, digits=4))"
   ]
  },
  {
   "cell_type": "markdown",
   "metadata": {},
   "source": [
    "# Código 26"
   ]
  },
  {
   "cell_type": "code",
   "execution_count": null,
   "metadata": {},
   "outputs": [],
   "source": [
    "# Importação do classificador de rede neural artificial\n",
    "from sklearn.neural_network import MLPClassifier\n",
    "\n",
    "# Instanciando o classificador\n",
    "ann = MLPClassifier()\n",
    "\n",
    "# Treinando o classificador\n",
    "ann = ann.fit(x_train, y_train)"
   ]
  },
  {
   "cell_type": "markdown",
   "metadata": {},
   "source": [
    "# Código 27"
   ]
  },
  {
   "cell_type": "code",
   "execution_count": null,
   "metadata": {},
   "outputs": [],
   "source": [
    "# Executando o teste de previsão com as amostras de teste\n",
    "ann_result = ann.predict(x_test)\n",
    "\n",
    "# Exibição da matriz de confusão\n",
    "print(confusion_matrix(y_test, ann_result))"
   ]
  },
  {
   "cell_type": "markdown",
   "metadata": {},
   "source": [
    "# Código 28"
   ]
  },
  {
   "cell_type": "code",
   "execution_count": null,
   "metadata": {},
   "outputs": [],
   "source": [
    "# Exibindo as métricas\n",
    "print(classification_report(y_test, ann_result, digits=4))"
   ]
  },
  {
   "cell_type": "markdown",
   "metadata": {},
   "source": [
    "# Código 29"
   ]
  },
  {
   "cell_type": "code",
   "execution_count": null,
   "metadata": {},
   "outputs": [],
   "source": [
    "# Importação do classificador de floresta aleatória\n",
    "from sklearn.ensemble import RandomForestClassifier\n",
    "\n",
    "# Instanciando o classificador com 1000000 árvores\n",
    "forest = RandomForestClassifier(n_estimators = 1000000)\n",
    "\n",
    "# Treinando o classificador\n",
    "forest = forest.fit(x_train, y_train)"
   ]
  },
  {
   "cell_type": "markdown",
   "metadata": {},
   "source": [
    "# Código 30"
   ]
  },
  {
   "cell_type": "code",
   "execution_count": null,
   "metadata": {},
   "outputs": [],
   "source": [
    "# Executando o teste de previsão com as amostras de teste\n",
    "forest_result = forest.predict(x_test)\n",
    "\n",
    "# Exibição da matriz de confusão\n",
    "print(confusion_matrix(y_test, forest_result))"
   ]
  },
  {
   "cell_type": "markdown",
   "metadata": {},
   "source": [
    "# Código 31"
   ]
  },
  {
   "cell_type": "code",
   "execution_count": null,
   "metadata": {},
   "outputs": [],
   "source": [
    "# Exibindo as métricas\n",
    "print(classification_report(y_test, forest_result, digits=4))"
   ]
  }
 ],
 "metadata": {
  "kernelspec": {
   "display_name": "Python 3",
   "language": "python",
   "name": "python3"
  },
  "language_info": {
   "codemirror_mode": {
    "name": "ipython",
    "version": 3
   },
   "file_extension": ".py",
   "mimetype": "text/x-python",
   "name": "python",
   "nbconvert_exporter": "python",
   "pygments_lexer": "ipython3",
   "version": "3.8.3"
  }
 },
 "nbformat": 4,
 "nbformat_minor": 4
}
